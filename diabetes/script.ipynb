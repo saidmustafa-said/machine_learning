{
 "cells": [
  {
   "cell_type": "markdown",
   "metadata": {},
   "source": [
    "##### Report for the diabetes dataset using Logistic Regression model with feature scaling"
   ]
  },
  {
   "cell_type": "code",
   "execution_count": 17,
   "metadata": {},
   "outputs": [],
   "source": [
    "import pandas as pd\n",
    "from sklearn.model_selection import train_test_split\n",
    "from sklearn.preprocessing import StandardScaler\n",
    "from sklearn.linear_model import LogisticRegression\n",
    "from sklearn.metrics import accuracy_score, classification_report, confusion_matrix"
   ]
  },
  {
   "cell_type": "code",
   "execution_count": 18,
   "metadata": {},
   "outputs": [],
   "source": [
    "iowa_file_path = 'data/diabetes.csv'\n",
    "data = pd.read_csv(iowa_file_path)\n",
    "y = data['Outcome']\n",
    "X = data.drop(columns=['Outcome'])"
   ]
  },
  {
   "cell_type": "code",
   "execution_count": 19,
   "metadata": {},
   "outputs": [],
   "source": [
    "# Split data into training and validation sets\n",
    "train_X, val_X, train_y, val_y = train_test_split(X, y, random_state=1)\n",
    "\n",
    "# Feature scaling\n",
    "scaler = StandardScaler()\n",
    "train_X = scaler.fit_transform(train_X)\n",
    "val_X = scaler.transform(val_X)\n",
    "\n",
    "# Initialize and train model\n",
    "model = LogisticRegression(random_state=1, class_weight=\"balanced\")\n",
    "model.fit(train_X, train_y)\n",
    "\n",
    "# Predict on validation data\n",
    "val_predictions = model.predict(val_X)\n",
    "\n",
    "# Calculate Accuracy\n",
    "val_accuracy = accuracy_score(val_y, val_predictions)\n"
   ]
  },
  {
   "cell_type": "code",
   "execution_count": null,
   "metadata": {},
   "outputs": [
    {
     "name": "stdout",
     "output_type": "stream",
     "text": [
      "Validation Accuracy: 0.807\n",
      "\n",
      "Classification Report:\n",
      "               precision    recall  f1-score   support\n",
      "\n",
      "           0       0.88      0.81      0.84       123\n",
      "           1       0.71      0.80      0.75        69\n",
      "\n",
      "    accuracy                           0.81       192\n",
      "   macro avg       0.79      0.81      0.80       192\n",
      "weighted avg       0.82      0.81      0.81       192\n",
      "\n",
      "\n",
      "Confusion Matrix:\n",
      " [[100  23]\n",
      " [ 14  55]]\n"
     ]
    }
   ],
   "source": [
    "# Show Validation Accuracy Report\n",
    "print(\"Validation Accuracy: {:.3f}\".format(val_accuracy))\n",
    "\n",
    "# Show Classification Report\n",
    "print(\"\\nClassification Report:\\n\", classification_report(val_y, val_predictions))\n",
    "\n",
    "# Show Confusion Matrix\n",
    "print(\"\\nConfusion Matrix:\\n\", confusion_matrix(val_y, val_predictions))"
   ]
  }
 ],
 "metadata": {
  "kernelspec": {
   "display_name": "venv",
   "language": "python",
   "name": "python3"
  },
  "language_info": {
   "codemirror_mode": {
    "name": "ipython",
    "version": 3
   },
   "file_extension": ".py",
   "mimetype": "text/x-python",
   "name": "python",
   "nbconvert_exporter": "python",
   "pygments_lexer": "ipython3",
   "version": "3.11.4"
  }
 },
 "nbformat": 4,
 "nbformat_minor": 2
}
